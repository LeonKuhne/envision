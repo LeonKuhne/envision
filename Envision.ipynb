{
 "cells": [
  {
   "cell_type": "code",
   "execution_count": 1,
   "id": "7efb416b",
   "metadata": {},
   "outputs": [
    {
     "name": "stderr",
     "output_type": "stream",
     "text": [
      "2022-07-15 10:06:33.806256: W tensorflow/stream_executor/platform/default/dso_loader.cc:64] Could not load dynamic library 'libcudart.so.11.0'; dlerror: libcudart.so.11.0: cannot open shared object file: No such file or directory\n",
      "2022-07-15 10:06:33.806278: I tensorflow/stream_executor/cuda/cudart_stub.cc:29] Ignore above cudart dlerror if you do not have a GPU set up on your machine.\n"
     ]
    }
   ],
   "source": [
    "import tensorflow as tf\n",
    "from tensorflow import keras\n",
    "import random\n",
    "import copy\n",
    "import matplotlib.pyplot as plt\n",
    "import time\n",
    "from threading import Thread\n",
    "import os\n",
    "%matplotlib inline"
   ]
  },
  {
   "cell_type": "markdown",
   "id": "f7018c04",
   "metadata": {},
   "source": [
    "# generate data"
   ]
  },
  {
   "cell_type": "code",
   "execution_count": 2,
   "id": "5243b655",
   "metadata": {},
   "outputs": [],
   "source": [
    "class Cell:\n",
    "    def __init__(self, x, y, dead=False):\n",
    "        self.x = x\n",
    "        self.y = y\n",
    "        self.isDead = dead\n",
    "        \n",
    "    def key(self):\n",
    "        return f\"{self.x},{self.y}\"\n",
    "    \n",
    "    def scan(self, cells):\n",
    "        self.alive = {}\n",
    "        self.dead = {}\n",
    "        \n",
    "        # scan 8 surrounding cells\n",
    "        for y_offset in range(-1, 2):\n",
    "            for x_offset in range(-1, 2):\n",
    "                if not (x_offset == 0 and y_offset == 0):\n",
    "                    x = self.x + x_offset\n",
    "                    y = self.y + y_offset\n",
    "                    key = f\"{x},{y}\"\n",
    "                    # find the neighbor\n",
    "                    if key in cells:\n",
    "                        self.alive[key] = cells[key]\n",
    "                    # create a dead cell\n",
    "                    else:\n",
    "                        dead_cell = Cell(x, y, True)\n",
    "                        self.dead[key] = dead_cell\n",
    "                        \n",
    "    \n",
    "    # assumes this cell has already been scanned\n",
    "    # returns alive cell if new state alive else nothing\n",
    "    def tick(self):\n",
    "        # Any live cell with two or three live neighbours survives\n",
    "        if not self.isDead:\n",
    "            alive_count = len(self.alive)\n",
    "            if alive_count == 2 or alive_count == 3:\n",
    "                return self\n",
    "        \n",
    "        # Any dead cell with three live neighbours becomes a live cell\n",
    "        else:\n",
    "            if len(self.alive) == 3:\n",
    "                self.isDead = False\n",
    "                return self\n",
    "        \n",
    "        # All other live cells die in the next generation\n",
    "        # Similarly, all other dead cells stay dead\n",
    "        return None"
   ]
  },
  {
   "cell_type": "code",
   "execution_count": 3,
   "id": "5fc313ab",
   "metadata": {},
   "outputs": [],
   "source": [
    "class GameOfLife:\n",
    "    def __init__(self, count, width, height):\n",
    "        # generate cells\n",
    "        self.width = width\n",
    "        self.height = height\n",
    "        self.cells = {}\n",
    "        self.id = (\"%032x\" % random.getrandbits(128))[0:6]\n",
    "        \n",
    "        while len(self.cells) < count:\n",
    "            half_width, half_height = int(width/2), int(height/2)\n",
    "            x = random.randint(-half_width, half_width)\n",
    "            y = random.randint(-half_height, half_height)\n",
    "            cell = Cell(x, y)\n",
    "            self.cells[cell.key()] = cell\n",
    "    \n",
    "    def to_pixels(self, half_width, half_height):\n",
    "        # convert cells to pixels\n",
    "        pixels = []\n",
    "        for y in range(-half_height, half_height):\n",
    "            column = []\n",
    "            for x in range(-half_width, half_width):\n",
    "                color = 1 if f\"{x},{y}\" in self.cells else 0\n",
    "                column.append(color)\n",
    "            pixels.append(column)\n",
    "        return pixels\n",
    "    \n",
    "    def update(self, width=None, height=None):\n",
    "        self.tick()\n",
    "        self.draw(width, height)\n",
    "    \n",
    "    def draw(self, width=None, height=None):\n",
    "        width = width if width else self.width\n",
    "        height = height if height else self.height\n",
    "        half_width, half_height = int(width/2), int(height/2)\n",
    "        \n",
    "        data = self.to_pixels(half_width, half_height)\n",
    "        plt.imshow(data, interpolation='nearest')\n",
    "        \n",
    "        # adjust graph view\n",
    "        plt.xlim([-0.5, width-0.5])\n",
    "        plt.xlim([-0.5, height-0.5])\n",
    "        \n",
    "    def tick(self):\n",
    "        # create a new state\n",
    "        new_cells = {}\n",
    "        \n",
    "        # consolidate dead cells\n",
    "        dead_cells = {}\n",
    "        for key, cell in self.cells.items():\n",
    "            # update cell\n",
    "            cell.scan(self.cells)\n",
    "            \n",
    "            # aggregate new dead cells\n",
    "            for dead_key, dead_cell in cell.dead.items():\n",
    "                if (not dead_key in dead_cells):\n",
    "                    dead_cells[dead_key] = dead_cell\n",
    "            \n",
    "            # find next state\n",
    "            next_cell = cell.tick()\n",
    "            if next_cell:\n",
    "                new_cells[key] = next_cell\n",
    "        \n",
    "        # tick dead cells\n",
    "        for key, cell in dead_cells.items():\n",
    "            # update cell\n",
    "            cell.scan(self.cells)\n",
    "            \n",
    "            # find next state\n",
    "            next_cell = cell.tick()\n",
    "            if next_cell:\n",
    "                new_cells[key] = next_cell\n",
    "                \n",
    "        # update scene\n",
    "        self.cells = new_cells"
   ]
  },
  {
   "cell_type": "code",
   "execution_count": 4,
   "id": "ac561b84",
   "metadata": {},
   "outputs": [],
   "source": [
    "# config\n",
    "screen_size = 1\n",
    "spawn_size = 3000\n",
    "frame = 0\n",
    "sim = None\n",
    "\n",
    "def sim_dir_name():\n",
    "    global spawn_size, sim\n",
    "    return f\"output/{spawn_size}-{sim.id}\"\n",
    "\n",
    "def sim_file_name(file_name):\n",
    "    return f\"{sim_dir_name()}/{file_name}.png\"\n",
    "\n",
    "def new_game():\n",
    "    global sim, frame, screen_size, spawn_size\n",
    "    frame = 0\n",
    "    min_fill, max_fill = 0.25, 0.75\n",
    "    max_count = spawn_size*spawn_size\n",
    "    count = random.randint(max_count*min_fill, max_count*max_fill)\n",
    "    # start the game\n",
    "    sim = GameOfLife(count, spawn_size, spawn_size)\n",
    "    # create save destination\n",
    "    os.mkdir(sim_dir_name())\n",
    "    return sim\n",
    "\n",
    "def save_fig(frame):\n",
    "    path = sim_file_name(str(frame).zfill(3))\n",
    "    plt.savefig(path)\n",
    "\n",
    "def next_frame(alt_size = None):\n",
    "    global frame, screen_size, sim\n",
    "    size = alt_size if alt_size else screen_size\n",
    "    save_fig(frame)\n",
    "    sim.update(size, size)\n",
    "    frame += 1"
   ]
  },
  {
   "cell_type": "code",
   "execution_count": 5,
   "id": "f8f6dad4",
   "metadata": {},
   "outputs": [
    {
     "name": "stdout",
     "output_type": "stream",
     "text": [
      "Instance: f35eb5\n"
     ]
    }
   ],
   "source": [
    "# start new game\n",
    "sim = new_game()\n",
    "print(f\"Instance: {sim.id}\")"
   ]
  },
  {
   "cell_type": "code",
   "execution_count": 6,
   "id": "9269ae52",
   "metadata": {},
   "outputs": [
    {
     "ename": "KeyboardInterrupt",
     "evalue": "",
     "output_type": "error",
     "traceback": [
      "\u001b[0;31m---------------------------------------------------------------------------\u001b[0m",
      "\u001b[0;31mKeyboardInterrupt\u001b[0m                         Traceback (most recent call last)",
      "Input \u001b[0;32mIn [6]\u001b[0m, in \u001b[0;36m<cell line: 7>\u001b[0;34m()\u001b[0m\n\u001b[1;32m      9\u001b[0m         next_milestone \u001b[38;5;241m+\u001b[39m\u001b[38;5;241m=\u001b[39m \u001b[38;5;241m1\u001b[39m\n\u001b[1;32m     10\u001b[0m         \u001b[38;5;28mprint\u001b[39m(\u001b[38;5;124mf\u001b[39m\u001b[38;5;124m\"\u001b[39m\u001b[38;5;132;01m{\u001b[39;00mi\u001b[38;5;241m+\u001b[39m\u001b[38;5;241m1\u001b[39m\u001b[38;5;132;01m}\u001b[39;00m\u001b[38;5;124m/\u001b[39m\u001b[38;5;132;01m{\u001b[39;00mpractice_runs\u001b[38;5;132;01m}\u001b[39;00m\u001b[38;5;124m\"\u001b[39m)\n\u001b[0;32m---> 11\u001b[0m     \u001b[43msim\u001b[49m\u001b[38;5;241;43m.\u001b[39;49m\u001b[43mtick\u001b[49m\u001b[43m(\u001b[49m\u001b[43m)\u001b[49m\n\u001b[1;32m     13\u001b[0m sim\u001b[38;5;241m.\u001b[39mdraw(spawn_size\u001b[38;5;241m+\u001b[39m\u001b[38;5;241m20\u001b[39m, spawn_size\u001b[38;5;241m+\u001b[39m\u001b[38;5;241m20\u001b[39m)\n",
      "Input \u001b[0;32mIn [3]\u001b[0m, in \u001b[0;36mGameOfLife.tick\u001b[0;34m(self)\u001b[0m\n\u001b[1;32m     63\u001b[0m \u001b[38;5;66;03m# tick dead cells\u001b[39;00m\n\u001b[1;32m     64\u001b[0m \u001b[38;5;28;01mfor\u001b[39;00m key, cell \u001b[38;5;129;01min\u001b[39;00m dead_cells\u001b[38;5;241m.\u001b[39mitems():\n\u001b[1;32m     65\u001b[0m     \u001b[38;5;66;03m# update cell\u001b[39;00m\n\u001b[0;32m---> 66\u001b[0m     \u001b[43mcell\u001b[49m\u001b[38;5;241;43m.\u001b[39;49m\u001b[43mscan\u001b[49m\u001b[43m(\u001b[49m\u001b[38;5;28;43mself\u001b[39;49m\u001b[38;5;241;43m.\u001b[39;49m\u001b[43mcells\u001b[49m\u001b[43m)\u001b[49m\n\u001b[1;32m     68\u001b[0m     \u001b[38;5;66;03m# find next state\u001b[39;00m\n\u001b[1;32m     69\u001b[0m     next_cell \u001b[38;5;241m=\u001b[39m cell\u001b[38;5;241m.\u001b[39mtick()\n",
      "Input \u001b[0;32mIn [2]\u001b[0m, in \u001b[0;36mCell.scan\u001b[0;34m(self, cells)\u001b[0m\n\u001b[1;32m     23\u001b[0m     \u001b[38;5;28mself\u001b[39m\u001b[38;5;241m.\u001b[39malive[key] \u001b[38;5;241m=\u001b[39m cells[key]\n\u001b[1;32m     24\u001b[0m \u001b[38;5;66;03m# create a dead cell\u001b[39;00m\n\u001b[1;32m     25\u001b[0m \u001b[38;5;28;01melse\u001b[39;00m:\n\u001b[0;32m---> 26\u001b[0m     dead_cell \u001b[38;5;241m=\u001b[39m \u001b[43mCell\u001b[49m\u001b[43m(\u001b[49m\u001b[43mx\u001b[49m\u001b[43m,\u001b[49m\u001b[43m \u001b[49m\u001b[43my\u001b[49m\u001b[43m,\u001b[49m\u001b[43m \u001b[49m\u001b[38;5;28;43;01mTrue\u001b[39;49;00m\u001b[43m)\u001b[49m\n\u001b[1;32m     27\u001b[0m     \u001b[38;5;28mself\u001b[39m\u001b[38;5;241m.\u001b[39mdead[key] \u001b[38;5;241m=\u001b[39m dead_cell\n",
      "Input \u001b[0;32mIn [2]\u001b[0m, in \u001b[0;36mCell.__init__\u001b[0;34m(self, x, y, dead)\u001b[0m\n\u001b[1;32m      1\u001b[0m \u001b[38;5;28;01mclass\u001b[39;00m \u001b[38;5;21;01mCell\u001b[39;00m:\n\u001b[0;32m----> 2\u001b[0m     \u001b[38;5;28;01mdef\u001b[39;00m \u001b[38;5;21m__init__\u001b[39m(\u001b[38;5;28mself\u001b[39m, x, y, dead\u001b[38;5;241m=\u001b[39m\u001b[38;5;28;01mFalse\u001b[39;00m):\n\u001b[1;32m      3\u001b[0m         \u001b[38;5;28mself\u001b[39m\u001b[38;5;241m.\u001b[39mx \u001b[38;5;241m=\u001b[39m x\n\u001b[1;32m      4\u001b[0m         \u001b[38;5;28mself\u001b[39m\u001b[38;5;241m.\u001b[39my \u001b[38;5;241m=\u001b[39m y\n",
      "\u001b[0;31mKeyboardInterrupt\u001b[0m: "
     ]
    }
   ],
   "source": [
    "# practice run manually in batches\n",
    "practice_runs = 100\n",
    "\n",
    "next_milestone = 1\n",
    "milestone_dist = 0.1\n",
    "run_profit = milestone_dist * practice_runs\n",
    "for i in range(1, practice_runs+1):\n",
    "    if (i > next_milestone * run_profit):\n",
    "        next_milestone += 1\n",
    "        print(f\"{i+1}/{practice_runs}\")\n",
    "    sim.tick()\n",
    "\n",
    "sim.draw(spawn_size+20, spawn_size+20)"
   ]
  },
  {
   "cell_type": "code",
   "execution_count": null,
   "id": "3f7e6c60",
   "metadata": {},
   "outputs": [],
   "source": [
    "plt.figure(figsize=(12,9), dpi=80)\n",
    "\n",
    "sim.draw(spawn_size, spawn_size)\n",
    "\n",
    "# manually step through a simulation\n",
    "next_frame(spawn_size)"
   ]
  },
  {
   "cell_type": "code",
   "execution_count": null,
   "id": "c9a4a2df",
   "metadata": {},
   "outputs": [],
   "source": [
    "next_milestone = 1\n",
    "milestone_dist = 0.1\n",
    "\n",
    "# render frames\n",
    "while screen_size < spawn_size:\n",
    "    progress = screen_size/spawn_size\n",
    "    if (progress > next_milestone * milestone_dist):\n",
    "        next_milestone += 1\n",
    "        progress_text = \"{0:.0%}\".format(progress)\n",
    "        print(f\"Rendering: {progress_text}\")\n",
    "    \n",
    "    screen_size *= 1.01\n",
    "    next_frame(screen_size)"
   ]
  },
  {
   "cell_type": "code",
   "execution_count": null,
   "id": "44e9d115",
   "metadata": {},
   "outputs": [],
   "source": [
    "# convert images to video\n",
    "file_pattern = sim_file_name(\"%03d\")\n",
    "os.system(f\"ffmpeg -framerate 24 -i {file_pattern} {sim_dir_name()}.mp4\")\n",
    "sim.id"
   ]
  },
  {
   "cell_type": "markdown",
   "id": "3cfb2e63",
   "metadata": {},
   "source": [
    "# setup data"
   ]
  },
  {
   "cell_type": "code",
   "execution_count": null,
   "id": "f0a4cac2",
   "metadata": {},
   "outputs": [],
   "source": []
  }
 ],
 "metadata": {
  "kernelspec": {
   "display_name": "Python 3 (ipykernel)",
   "language": "python",
   "name": "python3"
  },
  "language_info": {
   "codemirror_mode": {
    "name": "ipython",
    "version": 3
   },
   "file_extension": ".py",
   "mimetype": "text/x-python",
   "name": "python",
   "nbconvert_exporter": "python",
   "pygments_lexer": "ipython3",
   "version": "3.10.5"
  }
 },
 "nbformat": 4,
 "nbformat_minor": 5
}
